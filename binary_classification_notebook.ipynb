{
 "cells": [
  {
   "cell_type": "markdown",
   "metadata": {},
   "source": [
    "# 2クラス分類分析\n",
    "\n",
    "このNotebookでは2クラス分類モデルを作成し、Recallを算出します。"
   ]
  },
  {
   "cell_type": "code",
   "execution_count": null,
   "metadata": {},
   "outputs": [],
   "source": [
    "import pandas as pd\n",
    "import numpy as np\n",
    "from sklearn.model_selection import train_test_split\n",
    "from sklearn.ensemble import RandomForestClassifier\n",
    "from sklearn.linear_model import LogisticRegression\n",
    "from sklearn.svm import SVC\n",
    "from sklearn.preprocessing import StandardScaler\n",
    "from sklearn.metrics import classification_report, confusion_matrix, recall_score, precision_score, f1_score, accuracy_score\n",
    "import matplotlib.pyplot as plt\n",
    "import seaborn as sns\n",
    "\n",
    "%matplotlib inline\n",
    "sns.set_style(\"whitegrid\")"
   ]
  },
  {
   "cell_type": "markdown",
   "metadata": {},
   "source": [
    "## 1. データの読み込み"
   ]
  },
  {
   "cell_type": "code",
   "execution_count": null,
   "metadata": {},
   "outputs": [],
   "source": [
    "# CSVデータを読み込み\n",
    "df = pd.read_csv('binary_classification_data.csv')\n",
    "\n",
    "print(f\"データ形状: {df.shape}\")\n",
    "print(f\"\\nクラス分布:\")\n",
    "print(df['target'].value_counts())\n",
    "\n",
    "# データの最初の数行を表示\n",
    "print(\"\\nデータの最初の5行:\")\n",
    "df.head()"
   ]
  },
  {
   "cell_type": "code",
   "execution_count": null,
   "metadata": {},
   "outputs": [],
   "source": [
    "# データの基本統計情報\n",
    "df.describe()"
   ]
  },
  {
   "cell_type": "markdown",
   "metadata": {},
   "source": [
    "## 2. 学習データと評価データに分割"
   ]
  },
  {
   "cell_type": "code",
   "execution_count": null,
   "metadata": {},
   "outputs": [],
   "source": [
    "# 特徴量とターゲットを分離\n",
    "X = df.drop('target', axis=1)\n",
    "y = df['target']\n",
    "\n",
    "# 学習データと評価データに分割（8:2の比率）\n",
    "X_train, X_test, y_train, y_test = train_test_split(\n",
    "    X, y, test_size=0.2, random_state=42, stratify=y\n",
    ")\n",
    "\n",
    "print(f\"学習データ形状: {X_train.shape}\")\n",
    "print(f\"評価データ形状: {X_test.shape}\")\n",
    "print(f\"\\n学習データのクラス分布:\")\n",
    "print(y_train.value_counts())\n",
    "print(f\"\\n評価データのクラス分布:\")\n",
    "print(y_test.value_counts())"
   ]
  },
  {
   "cell_type": "markdown",
   "metadata": {},
   "source": [
    "## 3. モデルの学習"
   ]
  },
  {
   "cell_type": "code",
   "execution_count": null,
   "metadata": {},
   "outputs": [],
   "source": [
    "# Random Forestモデル\n",
    "rf_model = RandomForestClassifier(n_estimators=100, random_state=42)\n",
    "rf_model.fit(X_train, y_train)\n",
    "\n",
    "print(\"Random Forestモデルの学習完了\")"
   ]
  },
  {
   "cell_type": "code",
   "execution_count": null,
   "metadata": {},
   "outputs": [],
   "source": [
    "# データの標準化（Logistic RegressionとSVM用）\n",
    "scaler = StandardScaler()\n",
    "X_train_scaled = scaler.fit_transform(X_train)\n",
    "X_test_scaled = scaler.transform(X_test)\n",
    "\n",
    "# Logistic Regressionモデル\n",
    "lr_model = LogisticRegression(random_state=42)\n",
    "lr_model.fit(X_train_scaled, y_train)\n",
    "\n",
    "# SVMモデル\n",
    "svm_model = SVC(random_state=42, probability=True)\n",
    "svm_model.fit(X_train_scaled, y_train)\n",
    "\n",
    "print(\"Logistic RegressionとSVMモデルの学習完了\")"
   ]
  },
  {
   "cell_type": "markdown",
   "metadata": {},
   "source": [
    "## 4. モデルの評価とRecallの算出"
   ]
  },
  {
   "cell_type": "code",
   "execution_count": null,
   "metadata": {},
   "outputs": [],
   "source": [
    "# Random Forestの評価\n",
    "print(\"=== Random Forest の評価結果 ===\")\n",
    "rf_pred = rf_model.predict(X_test)\n",
    "\n",
    "rf_accuracy = accuracy_score(y_test, rf_pred)\n",
    "rf_precision = precision_score(y_test, rf_pred)\n",
    "rf_recall = recall_score(y_test, rf_pred)  # 重要: Recallの算出\n",
    "rf_f1 = f1_score(y_test, rf_pred)\n",
    "\n",
    "print(f\"Accuracy: {rf_accuracy:.4f}\")\n",
    "print(f\"Precision: {rf_precision:.4f}\")\n",
    "print(f\"Recall: {rf_recall:.4f}\")\n",
    "print(f\"F1-Score: {rf_f1:.4f}\")\n",
    "\n",
    "print(\"\\n詳細な分類レポート:\")\n",
    "print(classification_report(y_test, rf_pred))"
   ]
  },
  {
   "cell_type": "code",
   "execution_count": null,
   "metadata": {},
   "outputs": [],
   "source": [
    "# Random Forestの混同行列\n",
    "plt.figure(figsize=(6, 4))\n",
    "cm_rf = confusion_matrix(y_test, rf_pred)\n",
    "sns.heatmap(cm_rf, annot=True, fmt='d', cmap='Blues')\n",
    "plt.title('Random Forest - 混同行列')\n",
    "plt.ylabel('実際のクラス')\n",
    "plt.xlabel('予測クラス')\n",
    "plt.show()"
   ]
  },
  {
   "cell_type": "code",
   "execution_count": null,
   "metadata": {},
   "outputs": [],
   "source": [
    "# Logistic Regressionの評価\n",
    "print(\"=== Logistic Regression の評価結果 ===\")\n",
    "lr_pred = lr_model.predict(X_test_scaled)\n",
    "\n",
    "lr_accuracy = accuracy_score(y_test, lr_pred)\n",
    "lr_precision = precision_score(y_test, lr_pred)\n",
    "lr_recall = recall_score(y_test, lr_pred)\n",
    "lr_f1 = f1_score(y_test, lr_pred)\n",
    "\n",
    "print(f\"Accuracy: {lr_accuracy:.4f}\")\n",
    "print(f\"Precision: {lr_precision:.4f}\")\n",
    "print(f\"Recall: {lr_recall:.4f}\")\n",
    "print(f\"F1-Score: {lr_f1:.4f}\")\n",
    "\n",
    "print(\"\\n詳細な分類レポート:\")\n",
    "print(classification_report(y_test, lr_pred))"
   ]
  },
  {
   "cell_type": "code",
   "execution_count": null,
   "metadata": {},
   "outputs": [],
   "source": [
    "# Logistic Regressionの混同行列\n",
    "plt.figure(figsize=(6, 4))\n",
    "cm_lr = confusion_matrix(y_test, lr_pred)\n",
    "sns.heatmap(cm_lr, annot=True, fmt='d', cmap='Blues')\n",
    "plt.title('Logistic Regression - 混同行列')\n",
    "plt.ylabel('実際のクラス')\n",
    "plt.xlabel('予測クラス')\n",
    "plt.show()"
   ]
  },
  {
   "cell_type": "code",
   "execution_count": null,
   "metadata": {},
   "outputs": [],
   "source": [
    "# SVMの評価\n",
    "print(\"=== SVM の評価結果 ===\")\n",
    "svm_pred = svm_model.predict(X_test_scaled)\n",
    "\n",
    "svm_accuracy = accuracy_score(y_test, svm_pred)\n",
    "svm_precision = precision_score(y_test, svm_pred)\n",
    "svm_recall = recall_score(y_test, svm_pred)\n",
    "svm_f1 = f1_score(y_test, svm_pred)\n",
    "\n",
    "print(f\"Accuracy: {svm_accuracy:.4f}\")\n",
    "print(f\"Precision: {svm_precision:.4f}\")\n",
    "print(f\"Recall: {svm_recall:.4f}\")\n",
    "print(f\"F1-Score: {svm_f1:.4f}\")\n",
    "\n",
    "print(\"\\n詳細な分類レポート:\")\n",
    "print(classification_report(y_test, svm_pred))"
   ]
  },
  {
   "cell_type": "code",
   "execution_count": null,
   "metadata": {},
   "outputs": [],
   "source": [
    "# SVMの混同行列\n",
    "plt.figure(figsize=(6, 4))\n",
    "cm_svm = confusion_matrix(y_test, svm_pred)\n",
    "sns.heatmap(cm_svm, annot=True, fmt='d', cmap='Blues')\n",
    "plt.title('SVM - 混同行列')\n",
    "plt.ylabel('実際のクラス')\n",
    "plt.xlabel('予測クラス')\n",
    "plt.show()"
   ]
  },
  {
   "cell_type": "markdown",
   "metadata": {},
   "source": [
    "## 5. モデルの比較"
   ]
  },
  {
   "cell_type": "code",
   "execution_count": null,
   "metadata": {},
   "outputs": [],
   "source": [
    "# 結果をまとめて比較\n",
    "results_df = pd.DataFrame({\n",
    "    'Random Forest': [rf_accuracy, rf_precision, rf_recall, rf_f1],\n",
    "    'Logistic Regression': [lr_accuracy, lr_precision, lr_recall, lr_f1],\n",
    "    'SVM': [svm_accuracy, svm_precision, svm_recall, svm_f1]\n",
    "}, index=['Accuracy', 'Precision', 'Recall', 'F1-Score'])\n",
    "\n",
    "print(\"=== モデル比較 ===\")\n",
    "print(results_df.round(4))\n",
    "\n",
    "# Recallでソートして最良モデルを特定\n",
    "best_model_recall = results_df.loc['Recall'].idxmax()\n",
    "best_recall_value = results_df.loc['Recall'].max()\n",
    "\n",
    "print(f\"\\n最高Recall: {best_model_recall} (Recall: {best_recall_value:.4f})\")"
   ]
  },
  {
   "cell_type": "code",
   "execution_count": null,
   "metadata": {},
   "outputs": [],
   "source": [
    "# 視覚的な比較\n",
    "plt.figure(figsize=(12, 8))\n",
    "results_df.T.plot(kind='bar', figsize=(12, 6))\n",
    "plt.title('モデル性能比較')\n",
    "plt.xlabel('モデル')\n",
    "plt.ylabel('スコア')\n",
    "plt.legend(bbox_to_anchor=(1.05, 1), loc='upper left')\n",
    "plt.xticks(rotation=45)\n",
    "plt.ylim(0, 1)\n",
    "plt.tight_layout()\n",
    "plt.show()"
   ]
  },
  {
   "cell_type": "markdown",
   "metadata": {},
   "source": [
    "## 6. Recallに特化した分析"
   ]
  },
  {
   "cell_type": "code",
   "execution_count": null,
   "metadata": {},
   "outputs": [],
   "source": [
    "# Recallの詳細分析\n",
    "print(\"=== Recall詳細分析 ===\")\n",
    "print(f\"Random Forest Recall: {rf_recall:.4f}\")\n",
    "print(f\"Logistic Regression Recall: {lr_recall:.4f}\")\n",
    "print(f\"SVM Recall: {svm_recall:.4f}\")\n",
    "\n",
    "# Recallの意味を解説\n",
    "print(\"\\nRecallとは:\")\n",
    "print(\"実際にPositive（クラス1）であるもののうち、正しくPositiveと予測できた割合\")\n",
    "print(\"Recall = TP / (TP + FN)\")\n",
    "print(\"TP: True Positive, FN: False Negative\")\n",
    "\n",
    "# 各モデルのTP, FNを計算\n",
    "models_data = [\n",
    "    ('Random Forest', rf_pred),\n",
    "    ('Logistic Regression', lr_pred),\n",
    "    ('SVM', svm_pred)\n",
    "]\n",
    "\n",
    "print(\"\\n各モデルのTP, FN, Recall詳細:\")\n",
    "for model_name, pred in models_data:\n",
    "    cm = confusion_matrix(y_test, pred)\n",
    "    tn, fp, fn, tp = cm.ravel()\n",
    "    recall = tp / (tp + fn)\n",
    "    print(f\"{model_name}: TP={tp}, FN={fn}, Recall={recall:.4f}\")"
   ]
  },
  {
   "cell_type": "markdown",
   "metadata": {},
   "source": [
    "## まとめ\n",
    "\n",
    "この分析では以下を実施しました：\n",
    "\n",
    "1. **仮想的なCSVデータの作成**: 2クラス分類用の1000サンプル、10特徴量のデータセット\n",
    "2. **学習データと評価データの分割**: 8:2の比率で分割\n",
    "3. **複数のモデルの学習**:\n",
    "   - Random Forest\n",
    "   - Logistic Regression\n",
    "   - SVM\n",
    "4. **Recallの算出と比較**: 各モデルのRecall性能を評価\n",
    "\n",
    "**重要なポイント**:\n",
    "- Recallは「実際のPositiveクラスをどれだけ正しく検出できたか」を示す指標\n",
    "- 医療診断や不正検知など、見逃しを避けたい場面で重要\n",
    "- モデル選択時はRecallだけでなく、Precision、F1-Scoreも考慮して総合的に判断"
   ]
  }
 ],
 "metadata": {
  "kernelspec": {
   "display_name": "Python 3",
   "language": "python",
   "name": "python3"
  },
  "language_info": {
   "codemirror_mode": {
    "name": "ipython",
    "version": 3
   },
   "file_extension": ".py",
   "mimetype": "text/x-python",
   "name": "python",
   "nbconvert_exporter": "python",
   "pygments_lexer": "ipython3",
   "version": "3.10.0"
  }
 },
 "nbformat": 4,
 "nbformat_minor": 4
}