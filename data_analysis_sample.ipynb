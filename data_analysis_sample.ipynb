{
 "cells": [
  {
   "cell_type": "markdown",
   "metadata": {},
   "source": [
    "# データ分析サンプル\n",
    "\n",
    "このNotebookはテーブルデータの基本的な分析手法を示します。"
   ]
  },
  {
   "cell_type": "code",
   "execution_count": null,
   "metadata": {},
   "outputs": [],
   "source": [
    "import pandas as pd\n",
    "import numpy as np\n",
    "import matplotlib.pyplot as plt\n",
    "import seaborn as sns\n",
    "import plotly.express as px\n",
    "from scipy import stats\n",
    "from sklearn.preprocessing import StandardScaler\n",
    "from sklearn.cluster import KMeans\n",
    "from sklearn.linear_model import LinearRegression\n",
    "from sklearn.model_selection import train_test_split\n",
    "from sklearn.metrics import mean_squared_error, r2_score\n",
    "\n",
    "# Matplotlib設定\n",
    "plt.style.use('default')\n",
    "sns.set_palette(\"husl\")\n",
    "%matplotlib inline"
   ]
  },
  {
   "cell_type": "markdown",
   "metadata": {},
   "source": [
    "## 1. サンプルデータの作成\n",
    "\n",
    "分析用のサンプルデータを作成します。"
   ]
  },
  {
   "cell_type": "code",
   "execution_count": null,
   "metadata": {},
   "outputs": [],
   "source": [
    "# シード値を設定して再現可能にする\n",
    "np.random.seed(42)\n",
    "\n",
    "# サンプルデータの作成\n",
    "n_samples = 1000\n",
    "\n",
    "# 顧客データのシミュレーション\n",
    "data = {\n",
    "    'customer_id': range(1, n_samples + 1),\n",
    "    'age': np.random.normal(35, 12, n_samples).astype(int),\n",
    "    'income': np.random.exponential(50000, n_samples),\n",
    "    'spending_score': np.random.normal(50, 25, n_samples),\n",
    "    'purchase_frequency': np.random.poisson(3, n_samples),\n",
    "    'category': np.random.choice(['A', 'B', 'C', 'D'], n_samples),\n",
    "    'satisfaction': np.random.uniform(1, 5, n_samples)\n",
    "}\n",
    "\n",
    "# データフレームの作成\n",
    "df = pd.DataFrame(data)\n",
    "\n",
    "# 年齢の制限\n",
    "df['age'] = np.clip(df['age'], 18, 80)\n",
    "\n",
    "# スペンディングスコアの制限\n",
    "df['spending_score'] = np.clip(df['spending_score'], 1, 100)\n",
    "\n",
    "# 収入とスペンディングスコアの相関を追加\n",
    "df['spending_score'] += df['income'] / 2000\n",
    "df['spending_score'] = np.clip(df['spending_score'], 1, 100)\n",
    "\n",
    "print(f\"データセットの形状: {df.shape}\")\n",
    "df.head()"
   ]
  },
  {
   "cell_type": "markdown",
   "metadata": {},
   "source": [
    "## 2. 基本的な統計情報の確認"
   ]
  },
  {
   "cell_type": "code",
   "execution_count": null,
   "metadata": {},
   "outputs": [],
   "source": [
    "# 基本統計情報\n",
    "print(\"=== 基本統計情報 ===\")\n",
    "print(df.describe())\n",
    "\n",
    "print(\"\\n=== データ型情報 ===\")\n",
    "print(df.info())\n",
    "\n",
    "print(\"\\n=== 欠損値の確認 ===\")\n",
    "print(df.isnull().sum())"
   ]
  },
  {
   "cell_type": "markdown",
   "metadata": {},
   "source": [
    "## 3. データ可視化"
   ]
  },
  {
   "cell_type": "code",
   "execution_count": null,
   "metadata": {},
   "outputs": [],
   "source": [
    "# 数値データの分布を確認\n",
    "fig, axes = plt.subplots(2, 3, figsize=(15, 10))\n",
    "fig.suptitle('数値変数の分布', fontsize=16)\n",
    "\n",
    "numerical_cols = ['age', 'income', 'spending_score', 'purchase_frequency', 'satisfaction']\n",
    "\n",
    "for i, col in enumerate(numerical_cols):\n",
    "    row = i // 3\n",
    "    col_idx = i % 3\n",
    "    \n",
    "    axes[row, col_idx].hist(df[col], bins=30, alpha=0.7, color='skyblue', edgecolor='black')\n",
    "    axes[row, col_idx].set_title(f'{col}の分布')\n",
    "    axes[row, col_idx].set_xlabel(col)\n",
    "    axes[row, col_idx].set_ylabel('頻度')\n",
    "\n",
    "# 空のサブプロットを削除\n",
    "fig.delaxes(axes[1, 2])\n",
    "\n",
    "plt.tight_layout()\n",
    "plt.show()"
   ]
  },
  {
   "cell_type": "code",
   "execution_count": null,
   "metadata": {},
   "outputs": [],
   "source": [
    "# カテゴリ変数の可視化\n",
    "plt.figure(figsize=(8, 6))\n",
    "df['category'].value_counts().plot(kind='bar', color='lightcoral')\n",
    "plt.title('カテゴリ別顧客数')\n",
    "plt.xlabel('カテゴリ')\n",
    "plt.ylabel('顧客数')\n",
    "plt.xticks(rotation=0)\n",
    "plt.show()"
   ]
  },
  {
   "cell_type": "markdown",
   "metadata": {},
   "source": [
    "## 4. 相関分析"
   ]
  },
  {
   "cell_type": "code",
   "execution_count": null,
   "metadata": {},
   "outputs": [],
   "source": [
    "# 相関行列の計算と可視化\n",
    "correlation_matrix = df[numerical_cols].corr()\n",
    "\n",
    "plt.figure(figsize=(10, 8))\n",
    "sns.heatmap(correlation_matrix, annot=True, cmap='coolwarm', center=0, \n",
    "            square=True, linewidths=0.5)\n",
    "plt.title('変数間の相関行列')\n",
    "plt.tight_layout()\n",
    "plt.show()\n",
    "\n",
    "print(\"強い相関関係:\")\n",
    "for i in range(len(correlation_matrix.columns)):\n",
    "    for j in range(i+1, len(correlation_matrix.columns)):\n",
    "        corr_val = correlation_matrix.iloc[i, j]\n",
    "        if abs(corr_val) > 0.5:\n",
    "            print(f\"{correlation_matrix.columns[i]} と {correlation_matrix.columns[j]}: {corr_val:.3f}\")"
   ]
  },
  {
   "cell_type": "markdown",
   "metadata": {},
   "source": [
    "## 5. 散布図による関係性の可視化"
   ]
  },
  {
   "cell_type": "code",
   "execution_count": null,
   "metadata": {},
   "outputs": [],
   "source": [
    "# 収入とスペンディングスコアの関係\n",
    "plt.figure(figsize=(10, 6))\n",
    "scatter = plt.scatter(df['income'], df['spending_score'], c=df['age'], \n",
    "                     cmap='viridis', alpha=0.6)\n",
    "plt.colorbar(scatter, label='年齢')\n",
    "plt.xlabel('収入')\n",
    "plt.ylabel('スペンディングスコア')\n",
    "plt.title('収入とスペンディングスコアの関係（年齢別）')\n",
    "plt.show()"
   ]
  },
  {
   "cell_type": "markdown",
   "metadata": {},
   "source": [
    "## 6. カテゴリ別分析"
   ]
  },
  {
   "cell_type": "code",
   "execution_count": null,
   "metadata": {},
   "outputs": [],
   "source": [
    "# カテゴリ別のボックスプロット\n",
    "fig, axes = plt.subplots(2, 2, figsize=(15, 12))\n",
    "fig.suptitle('カテゴリ別データ分布', fontsize=16)\n",
    "\n",
    "variables = ['income', 'spending_score', 'age', 'satisfaction']\n",
    "\n",
    "for i, var in enumerate(variables):\n",
    "    row = i // 2\n",
    "    col = i % 2\n",
    "    \n",
    "    sns.boxplot(data=df, x='category', y=var, ax=axes[row, col])\n",
    "    axes[row, col].set_title(f'カテゴリ別{var}分布')\n",
    "\n",
    "plt.tight_layout()\n",
    "plt.show()"
   ]
  },
  {
   "cell_type": "markdown",
   "metadata": {},
   "source": [
    "## 7. クラスター分析"
   ]
  },
  {
   "cell_type": "code",
   "execution_count": null,
   "metadata": {},
   "outputs": [],
   "source": [
    "# クラスター分析用のデータ準備\n",
    "features_for_clustering = ['income', 'spending_score', 'age']\n",
    "X = df[features_for_clustering]\n",
    "\n",
    "# データの標準化\n",
    "scaler = StandardScaler()\n",
    "X_scaled = scaler.fit_transform(X)\n",
    "\n",
    "# K-meansクラスタリング\n",
    "kmeans = KMeans(n_clusters=4, random_state=42)\n",
    "clusters = kmeans.fit_predict(X_scaled)\n",
    "\n",
    "# クラスター結果をデータフレームに追加\n",
    "df['cluster'] = clusters\n",
    "\n",
    "print(\"クラスター別顧客数:\")\n",
    "print(df['cluster'].value_counts().sort_index())"
   ]
  },
  {
   "cell_type": "code",
   "execution_count": null,
   "metadata": {},
   "outputs": [],
   "source": [
    "# クラスター結果の可視化\n",
    "plt.figure(figsize=(12, 8))\n",
    "scatter = plt.scatter(df['income'], df['spending_score'], c=df['cluster'], \n",
    "                     cmap='Set1', alpha=0.7)\n",
    "plt.colorbar(scatter, label='クラスター')\n",
    "plt.xlabel('収入')\n",
    "plt.ylabel('スペンディングスコア')\n",
    "plt.title('K-meansクラスタリング結果')\n",
    "\n",
    "# クラスター中心点をプロット\n",
    "centers = scaler.inverse_transform(kmeans.cluster_centers_)\n",
    "plt.scatter(centers[:, 0], centers[:, 1], c='red', marker='x', s=200, linewidths=3)\n",
    "\n",
    "plt.show()"
   ]
  },
  {
   "cell_type": "markdown",
   "metadata": {},
   "source": [
    "## 8. 回帰分析"
   ]
  },
  {
   "cell_type": "code",
   "execution_count": null,
   "metadata": {},
   "outputs": [],
   "source": [
    "# 線形回帰：収入からスペンディングスコアを予測\n",
    "X = df[['income', 'age']].values\n",
    "y = df['spending_score'].values\n",
    "\n",
    "# 訓練・テストデータの分割\n",
    "X_train, X_test, y_train, y_test = train_test_split(X, y, test_size=0.2, random_state=42)\n",
    "\n",
    "# 線形回帰モデルの学習\n",
    "model = LinearRegression()\n",
    "model.fit(X_train, y_train)\n",
    "\n",
    "# 予測\n",
    "y_pred = model.predict(X_test)\n",
    "\n",
    "# モデル評価\n",
    "mse = mean_squared_error(y_test, y_pred)\n",
    "r2 = r2_score(y_test, y_pred)\n",
    "\n",
    "print(f\"平均二乗誤差 (MSE): {mse:.2f}\")\n",
    "print(f\"決定係数 (R²): {r2:.3f}\")\n",
    "print(f\"\\n回帰係数:\")\n",
    "print(f\"収入: {model.coef_[0]:.6f}\")\n",
    "print(f\"年齢: {model.coef_[1]:.6f}\")\n",
    "print(f\"切片: {model.intercept_:.2f}\")"
   ]
  },
  {
   "cell_type": "code",
   "execution_count": null,
   "metadata": {},
   "outputs": [],
   "source": [
    "# 予測結果の可視化\n",
    "plt.figure(figsize=(10, 6))\n",
    "plt.scatter(y_test, y_pred, alpha=0.7)\n",
    "plt.plot([y_test.min(), y_test.max()], [y_test.min(), y_test.max()], 'r--', lw=2)\n",
    "plt.xlabel('実際のスペンディングスコア')\n",
    "plt.ylabel('予測されたスペンディングスコア')\n",
    "plt.title(f'線形回帰の予測結果 (R² = {r2:.3f})')\n",
    "plt.show()"
   ]
  },
  {
   "cell_type": "markdown",
   "metadata": {},
   "source": [
    "## 9. インタラクティブな可視化（Plotly）"
   ]
  },
  {
   "cell_type": "code",
   "execution_count": null,
   "metadata": {},
   "outputs": [],
   "source": [
    "# Plotlyを使用したインタラクティブな散布図\n",
    "fig = px.scatter(df, x='income', y='spending_score', \n",
    "                 color='cluster', size='age',\n",
    "                 hover_data=['purchase_frequency', 'satisfaction'],\n",
    "                 title='顧客データのインタラクティブ散布図',\n",
    "                 labels={'income': '収入', 'spending_score': 'スペンディングスコア'})\n",
    "\n",
    "fig.show()"
   ]
  },
  {
   "cell_type": "markdown",
   "metadata": {},
   "source": [
    "## 10. まとめ\n",
    "\n",
    "このNotebookでは以下の分析を実行しました：\n",
    "\n",
    "1. **基本統計情報の確認**: データの概要と分布を把握\n",
    "2. **データ可視化**: ヒストグラム、ボックスプロットによる分布の確認\n",
    "3. **相関分析**: 変数間の関係性を数値とヒートマップで確認\n",
    "4. **カテゴリ別分析**: グループごとの特徴を比較\n",
    "5. **クラスター分析**: K-meansによる顧客セグメンテーション\n",
    "6. **回帰分析**: 線形回帰による予測モデル構築\n",
    "7. **インタラクティブ可視化**: Plotlyによる動的なグラフ作成\n",
    "\n",
    "### 次のステップ\n",
    "- 実際のデータを読み込んでこの分析手法を適用\n",
    "- より高度な機械学習手法の試行\n",
    "- 時系列データがある場合の時系列分析\n",
    "- A/Bテストや統計的検定の実装"
   ]
  }
 ],
 "metadata": {
  "kernelspec": {
   "display_name": "Python 3",
   "language": "python",
   "name": "python3"
  },
  "language_info": {
   "codemirror_mode": {
    "name": "ipython",
    "version": 3
   },
   "file_extension": ".py",
   "mimetype": "text/x-python",
   "name": "python",
   "nbconvert_exporter": "python",
   "pygments_lexer": "ipython3",
   "version": "3.10.0"
  }
 },
 "nbformat": 4,
 "nbformat_minor": 4
}